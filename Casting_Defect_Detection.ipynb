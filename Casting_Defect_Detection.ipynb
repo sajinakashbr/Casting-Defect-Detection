{
  "cells": [
    {
      "cell_type": "markdown",
      "metadata": {
        "id": "rE8_-oKHC5zx"
      },
      "source": [
        "## **Uploading Image Dataset:**\n"
      ]
    },
    {
      "cell_type": "code",
      "execution_count": 3,
      "metadata": {
        "colab": {
          "base_uri": "https://localhost:8080/",
          "height": 74
        },
        "id": "DRRqeNENC8w-",
        "outputId": "88ae853f-d46c-4d07-b808-04ff72acce9f"
      },
      "outputs": [
        {
          "output_type": "display_data",
          "data": {
            "text/plain": [
              "<IPython.core.display.HTML object>"
            ],
            "text/html": [
              "\n",
              "     <input type=\"file\" id=\"files-8c84d06f-2350-4b06-bfb3-4ce26e07c9d1\" name=\"files[]\" multiple disabled\n",
              "        style=\"border:none\" />\n",
              "     <output id=\"result-8c84d06f-2350-4b06-bfb3-4ce26e07c9d1\">\n",
              "      Upload widget is only available when the cell has been executed in the\n",
              "      current browser session. Please rerun this cell to enable.\n",
              "      </output>\n",
              "      <script>// Copyright 2017 Google LLC\n",
              "//\n",
              "// Licensed under the Apache License, Version 2.0 (the \"License\");\n",
              "// you may not use this file except in compliance with the License.\n",
              "// You may obtain a copy of the License at\n",
              "//\n",
              "//      http://www.apache.org/licenses/LICENSE-2.0\n",
              "//\n",
              "// Unless required by applicable law or agreed to in writing, software\n",
              "// distributed under the License is distributed on an \"AS IS\" BASIS,\n",
              "// WITHOUT WARRANTIES OR CONDITIONS OF ANY KIND, either express or implied.\n",
              "// See the License for the specific language governing permissions and\n",
              "// limitations under the License.\n",
              "\n",
              "/**\n",
              " * @fileoverview Helpers for google.colab Python module.\n",
              " */\n",
              "(function(scope) {\n",
              "function span(text, styleAttributes = {}) {\n",
              "  const element = document.createElement('span');\n",
              "  element.textContent = text;\n",
              "  for (const key of Object.keys(styleAttributes)) {\n",
              "    element.style[key] = styleAttributes[key];\n",
              "  }\n",
              "  return element;\n",
              "}\n",
              "\n",
              "// Max number of bytes which will be uploaded at a time.\n",
              "const MAX_PAYLOAD_SIZE = 100 * 1024;\n",
              "\n",
              "function _uploadFiles(inputId, outputId) {\n",
              "  const steps = uploadFilesStep(inputId, outputId);\n",
              "  const outputElement = document.getElementById(outputId);\n",
              "  // Cache steps on the outputElement to make it available for the next call\n",
              "  // to uploadFilesContinue from Python.\n",
              "  outputElement.steps = steps;\n",
              "\n",
              "  return _uploadFilesContinue(outputId);\n",
              "}\n",
              "\n",
              "// This is roughly an async generator (not supported in the browser yet),\n",
              "// where there are multiple asynchronous steps and the Python side is going\n",
              "// to poll for completion of each step.\n",
              "// This uses a Promise to block the python side on completion of each step,\n",
              "// then passes the result of the previous step as the input to the next step.\n",
              "function _uploadFilesContinue(outputId) {\n",
              "  const outputElement = document.getElementById(outputId);\n",
              "  const steps = outputElement.steps;\n",
              "\n",
              "  const next = steps.next(outputElement.lastPromiseValue);\n",
              "  return Promise.resolve(next.value.promise).then((value) => {\n",
              "    // Cache the last promise value to make it available to the next\n",
              "    // step of the generator.\n",
              "    outputElement.lastPromiseValue = value;\n",
              "    return next.value.response;\n",
              "  });\n",
              "}\n",
              "\n",
              "/**\n",
              " * Generator function which is called between each async step of the upload\n",
              " * process.\n",
              " * @param {string} inputId Element ID of the input file picker element.\n",
              " * @param {string} outputId Element ID of the output display.\n",
              " * @return {!Iterable<!Object>} Iterable of next steps.\n",
              " */\n",
              "function* uploadFilesStep(inputId, outputId) {\n",
              "  const inputElement = document.getElementById(inputId);\n",
              "  inputElement.disabled = false;\n",
              "\n",
              "  const outputElement = document.getElementById(outputId);\n",
              "  outputElement.innerHTML = '';\n",
              "\n",
              "  const pickedPromise = new Promise((resolve) => {\n",
              "    inputElement.addEventListener('change', (e) => {\n",
              "      resolve(e.target.files);\n",
              "    });\n",
              "  });\n",
              "\n",
              "  const cancel = document.createElement('button');\n",
              "  inputElement.parentElement.appendChild(cancel);\n",
              "  cancel.textContent = 'Cancel upload';\n",
              "  const cancelPromise = new Promise((resolve) => {\n",
              "    cancel.onclick = () => {\n",
              "      resolve(null);\n",
              "    };\n",
              "  });\n",
              "\n",
              "  // Wait for the user to pick the files.\n",
              "  const files = yield {\n",
              "    promise: Promise.race([pickedPromise, cancelPromise]),\n",
              "    response: {\n",
              "      action: 'starting',\n",
              "    }\n",
              "  };\n",
              "\n",
              "  cancel.remove();\n",
              "\n",
              "  // Disable the input element since further picks are not allowed.\n",
              "  inputElement.disabled = true;\n",
              "\n",
              "  if (!files) {\n",
              "    return {\n",
              "      response: {\n",
              "        action: 'complete',\n",
              "      }\n",
              "    };\n",
              "  }\n",
              "\n",
              "  for (const file of files) {\n",
              "    const li = document.createElement('li');\n",
              "    li.append(span(file.name, {fontWeight: 'bold'}));\n",
              "    li.append(span(\n",
              "        `(${file.type || 'n/a'}) - ${file.size} bytes, ` +\n",
              "        `last modified: ${\n",
              "            file.lastModifiedDate ? file.lastModifiedDate.toLocaleDateString() :\n",
              "                                    'n/a'} - `));\n",
              "    const percent = span('0% done');\n",
              "    li.appendChild(percent);\n",
              "\n",
              "    outputElement.appendChild(li);\n",
              "\n",
              "    const fileDataPromise = new Promise((resolve) => {\n",
              "      const reader = new FileReader();\n",
              "      reader.onload = (e) => {\n",
              "        resolve(e.target.result);\n",
              "      };\n",
              "      reader.readAsArrayBuffer(file);\n",
              "    });\n",
              "    // Wait for the data to be ready.\n",
              "    let fileData = yield {\n",
              "      promise: fileDataPromise,\n",
              "      response: {\n",
              "        action: 'continue',\n",
              "      }\n",
              "    };\n",
              "\n",
              "    // Use a chunked sending to avoid message size limits. See b/62115660.\n",
              "    let position = 0;\n",
              "    do {\n",
              "      const length = Math.min(fileData.byteLength - position, MAX_PAYLOAD_SIZE);\n",
              "      const chunk = new Uint8Array(fileData, position, length);\n",
              "      position += length;\n",
              "\n",
              "      const base64 = btoa(String.fromCharCode.apply(null, chunk));\n",
              "      yield {\n",
              "        response: {\n",
              "          action: 'append',\n",
              "          file: file.name,\n",
              "          data: base64,\n",
              "        },\n",
              "      };\n",
              "\n",
              "      let percentDone = fileData.byteLength === 0 ?\n",
              "          100 :\n",
              "          Math.round((position / fileData.byteLength) * 100);\n",
              "      percent.textContent = `${percentDone}% done`;\n",
              "\n",
              "    } while (position < fileData.byteLength);\n",
              "  }\n",
              "\n",
              "  // All done.\n",
              "  yield {\n",
              "    response: {\n",
              "      action: 'complete',\n",
              "    }\n",
              "  };\n",
              "}\n",
              "\n",
              "scope.google = scope.google || {};\n",
              "scope.google.colab = scope.google.colab || {};\n",
              "scope.google.colab._files = {\n",
              "  _uploadFiles,\n",
              "  _uploadFilesContinue,\n",
              "};\n",
              "})(self);\n",
              "</script> "
            ]
          },
          "metadata": {}
        },
        {
          "output_type": "stream",
          "name": "stdout",
          "text": [
            "Saving casting_data.zip to casting_data.zip\n"
          ]
        }
      ],
      "source": [
        "from google.colab import files\n",
        "import zipfile\n",
        "import os\n",
        "\n",
        "# Upload the zip file\n",
        "uploaded = files.upload()\n",
        "\n",
        "# Extract the uploaded zip file\n",
        "for file_name in uploaded.keys():\n",
        "    with zipfile.ZipFile(file_name, 'r') as zip_ref:\n",
        "        zip_ref.extractall()\n"
      ]
    },
    {
      "cell_type": "markdown",
      "source": [
        "#**MODEL 1:**"
      ],
      "metadata": {
        "id": "hozXunkP-8si"
      }
    },
    {
      "cell_type": "markdown",
      "metadata": {
        "id": "YNu-ZslPDTXj"
      },
      "source": [
        "### **Setting up Data generators:**"
      ]
    },
    {
      "cell_type": "code",
      "execution_count": 12,
      "metadata": {
        "colab": {
          "base_uri": "https://localhost:8080/"
        },
        "id": "os4ZUycBCOD2",
        "outputId": "ca774ab0-8230-4e6d-940b-a7b843061ceb"
      },
      "outputs": [
        {
          "output_type": "stream",
          "name": "stdout",
          "text": [
            "Found 6633 images belonging to 2 classes.\n",
            "Found 715 images belonging to 2 classes.\n"
          ]
        }
      ],
      "source": [
        "import tensorflow as tf\n",
        "from tensorflow.keras.preprocessing.image import ImageDataGenerator\n",
        "\n",
        "# Define paths\n",
        "train_data_dir = 'casting_data/train'\n",
        "test_data_dir = 'casting_data/test'\n",
        "\n",
        "# Image data generator with data augmentation for training\n",
        "train_datagen = ImageDataGenerator(\n",
        "    rescale=1.0/255.0,\n",
        "    rotation_range=20,\n",
        "    width_shift_range=0.2,\n",
        "    height_shift_range=0.2,\n",
        "    shear_range=0.2,\n",
        "    zoom_range=0.2,\n",
        "    horizontal_flip=True,\n",
        "    fill_mode='nearest'\n",
        ")\n",
        "\n",
        "# Image data generator for testing (no data augmentation)\n",
        "test_datagen = ImageDataGenerator(rescale=1.0/255.0)\n",
        "\n",
        "# Flow training images in batches of 32 using train_datagen generator\n",
        "train_generator = train_datagen.flow_from_directory(\n",
        "    train_data_dir,\n",
        "    target_size=(224, 224),  #VGG16 and other models often use 224x224 images\n",
        "    batch_size=32,\n",
        "    class_mode='binary',\n",
        "    classes=['def_front', 'ok_front']\n",
        ")\n",
        "\n",
        "# Flow testing images in batches of 32 using test_datagen generator\n",
        "test_generator = test_datagen.flow_from_directory(\n",
        "    test_data_dir,\n",
        "    target_size=(224, 224),\n",
        "    batch_size=32,\n",
        "    class_mode='binary',\n",
        "    classes=['def_front', 'ok_front']\n",
        ")\n"
      ]
    },
    {
      "cell_type": "markdown",
      "metadata": {
        "id": "XZK-748XDfCL"
      },
      "source": [
        "##**Building the model:**"
      ]
    },
    {
      "cell_type": "code",
      "execution_count": 22,
      "metadata": {
        "id": "L_g3moxWDeKE"
      },
      "outputs": [],
      "source": [
        "from tensorflow.keras.applications import VGG16\n",
        "from tensorflow.keras.models import Model\n",
        "from tensorflow.keras.layers import Dense, Flatten, Dropout\n",
        "\n",
        "def build_model(input_shape=(224, 224, 3)):\n",
        "    base_model = VGG16(weights='imagenet', include_top=False, input_shape=input_shape)\n",
        "    for layer in base_model.layers:\n",
        "        layer.trainable = False\n",
        "    x = Flatten()(base_model.output)\n",
        "    x = Dense(512, activation='relu')(x)  # Increase neurons in the dense layer\n",
        "    x = Dropout(0.5)(x)\n",
        "    x = Dense(1, activation='sigmoid')(x)\n",
        "    model = Model(inputs=base_model.input, outputs=x)\n",
        "    model.compile(optimizer= 'adam', loss='binary_crossentropy', metrics=['accuracy'])\n",
        "    return model\n",
        "\n",
        "# Build the model\n",
        "model = build_model()\n"
      ]
    },
    {
      "cell_type": "markdown",
      "metadata": {
        "id": "i4HlX2bGD0_i"
      },
      "source": [
        "##**Training the Model:**"
      ]
    },
    {
      "cell_type": "code",
      "execution_count": 24,
      "metadata": {
        "colab": {
          "base_uri": "https://localhost:8080/"
        },
        "id": "tXQGmbfOb9lC",
        "outputId": "61579227-e0dd-430d-d059-a82953b90ba1"
      },
      "outputs": [
        {
          "output_type": "stream",
          "name": "stdout",
          "text": [
            "Epoch 1/20\n",
            "208/208 [==============================] - 97s 466ms/step - loss: 0.2775 - accuracy: 0.8836 - val_loss: 0.1328 - val_accuracy: 0.9832 - lr: 0.0010\n",
            "Epoch 2/20\n",
            "208/208 [==============================] - 94s 454ms/step - loss: 0.2097 - accuracy: 0.9177 - val_loss: 0.2505 - val_accuracy: 0.8867 - lr: 0.0010\n",
            "Epoch 3/20\n",
            "208/208 [==============================] - 95s 454ms/step - loss: 0.1732 - accuracy: 0.9367 - val_loss: 0.1024 - val_accuracy: 0.9636 - lr: 0.0010\n",
            "Epoch 4/20\n",
            "208/208 [==============================] - 94s 453ms/step - loss: 0.1637 - accuracy: 0.9424 - val_loss: 0.0914 - val_accuracy: 0.9650 - lr: 0.0010\n",
            "Epoch 5/20\n",
            "208/208 [==============================] - 93s 449ms/step - loss: 0.1905 - accuracy: 0.9224 - val_loss: 0.0802 - val_accuracy: 0.9720 - lr: 0.0010\n",
            "Epoch 6/20\n",
            "208/208 [==============================] - 94s 450ms/step - loss: 0.1671 - accuracy: 0.9343 - val_loss: 0.1207 - val_accuracy: 0.9566 - lr: 0.0010\n",
            "Epoch 7/20\n",
            "208/208 [==============================] - 92s 443ms/step - loss: 0.1828 - accuracy: 0.9258 - val_loss: 0.0713 - val_accuracy: 0.9720 - lr: 0.0010\n",
            "Epoch 8/20\n",
            "208/208 [==============================] - 93s 448ms/step - loss: 0.1697 - accuracy: 0.9347 - val_loss: 0.0948 - val_accuracy: 0.9650 - lr: 0.0010\n",
            "Epoch 9/20\n",
            "208/208 [==============================] - 92s 443ms/step - loss: 0.1676 - accuracy: 0.9329 - val_loss: 0.0833 - val_accuracy: 0.9678 - lr: 0.0010\n",
            "Epoch 10/20\n",
            "208/208 [==============================] - 94s 451ms/step - loss: 0.1143 - accuracy: 0.9563 - val_loss: 0.0655 - val_accuracy: 0.9734 - lr: 2.0000e-04\n",
            "Epoch 11/20\n",
            "208/208 [==============================] - 93s 446ms/step - loss: 0.1017 - accuracy: 0.9652 - val_loss: 0.0499 - val_accuracy: 0.9804 - lr: 2.0000e-04\n",
            "Epoch 12/20\n",
            "208/208 [==============================] - 94s 451ms/step - loss: 0.1004 - accuracy: 0.9683 - val_loss: 0.0432 - val_accuracy: 0.9860 - lr: 2.0000e-04\n",
            "Epoch 13/20\n",
            "208/208 [==============================] - 93s 449ms/step - loss: 0.0936 - accuracy: 0.9741 - val_loss: 0.0570 - val_accuracy: 0.9776 - lr: 2.0000e-04\n",
            "Epoch 14/20\n",
            "208/208 [==============================] - 93s 448ms/step - loss: 0.0954 - accuracy: 0.9694 - val_loss: 0.0535 - val_accuracy: 0.9790 - lr: 2.0000e-04\n",
            "Epoch 15/20\n",
            "208/208 [==============================] - 94s 451ms/step - loss: 0.0760 - accuracy: 0.9784 - val_loss: 0.0576 - val_accuracy: 0.9776 - lr: 4.0000e-05\n",
            "Epoch 16/20\n",
            "208/208 [==============================] - 94s 450ms/step - loss: 0.0826 - accuracy: 0.9784 - val_loss: 0.0570 - val_accuracy: 0.9776 - lr: 4.0000e-05\n",
            "Epoch 17/20\n",
            "208/208 [==============================] - 93s 447ms/step - loss: 0.0857 - accuracy: 0.9760 - val_loss: 0.0622 - val_accuracy: 0.9748 - lr: 1.0000e-05\n"
          ]
        }
      ],
      "source": [
        "from tensorflow.keras.callbacks import EarlyStopping, ReduceLROnPlateau\n",
        "\n",
        "# Callback to reduce learning rate when the validation loss stops improving\n",
        "reduce_lr = ReduceLROnPlateau(monitor='val_loss', factor=0.2, patience=2, min_lr=0.00001)\n",
        "\n",
        "# Early stopping to terminate training when the validation loss stops improving\n",
        "early_stopping = EarlyStopping(monitor='val_loss', patience=5, restore_best_weights=True)\n",
        "\n",
        "# Train the model for more epochs and adjust the learning rate\n",
        "history = model.fit(\n",
        "    train_generator,\n",
        "    epochs=20,  # Train for more epochs\n",
        "    validation_data=test_generator,\n",
        "    callbacks=[reduce_lr, early_stopping]\n",
        ")\n"
      ]
    },
    {
      "cell_type": "markdown",
      "source": [
        "###**Evaluating the Model:**"
      ],
      "metadata": {
        "id": "Z98epUlQ_QKO"
      }
    },
    {
      "cell_type": "code",
      "source": [
        "# Generate predictions\n",
        "test_generator.reset()\n",
        "predictions = model.predict(test_generator)\n",
        "predicted_classes = (predictions > 0.5).astype(\"int32\")\n"
      ],
      "metadata": {
        "colab": {
          "base_uri": "https://localhost:8080/"
        },
        "id": "t6gtxmgxqbEu",
        "outputId": "51917d30-f9e7-45ff-8be8-acba9b16d7ec"
      },
      "execution_count": 15,
      "outputs": [
        {
          "output_type": "stream",
          "name": "stdout",
          "text": [
            "23/23 [==============================] - 3s 124ms/step\n"
          ]
        }
      ]
    },
    {
      "cell_type": "code",
      "source": [
        "from sklearn.metrics import confusion_matrix\n",
        "\n",
        "# Get true labels\n",
        "true_labels = test_generator.classes\n",
        "\n",
        "# Calculate confusion matrix\n",
        "conf_matrix = confusion_matrix(true_labels, predicted_classes)\n",
        "print(conf_matrix)\n"
      ],
      "metadata": {
        "colab": {
          "base_uri": "https://localhost:8080/"
        },
        "id": "UN5183wSqF4l",
        "outputId": "a9d1dae2-9d9d-45fd-bca1-a1c45899c48c"
      },
      "execution_count": 16,
      "outputs": [
        {
          "output_type": "stream",
          "name": "stdout",
          "text": [
            "[[295 158]\n",
            " [159 103]]\n"
          ]
        }
      ]
    },
    {
      "cell_type": "code",
      "source": [
        "import seaborn as sns\n",
        "import matplotlib.pyplot as plt\n",
        "\n",
        "# Plot confusion matrix\n",
        "plt.figure(figsize=(8, 6))\n",
        "sns.heatmap(conf_matrix, annot=True, fmt='d', cmap='Blues', xticklabels=['def_front', 'ok_front'], yticklabels=['def_front', 'ok_front'])\n",
        "plt.xlabel('Predicted Label')\n",
        "plt.ylabel('True Label')\n",
        "plt.title('Confusion Matrix')\n",
        "plt.show()\n"
      ],
      "metadata": {
        "colab": {
          "base_uri": "https://localhost:8080/",
          "height": 564
        },
        "id": "EX3Peh5aqiRZ",
        "outputId": "e6729edd-8c8d-4a62-e5c4-c88f224ee5e3"
      },
      "execution_count": 17,
      "outputs": [
        {
          "output_type": "display_data",
          "data": {
            "text/plain": [
              "<Figure size 800x600 with 2 Axes>"
            ],
            "image/png": "[encoded data removed]"
          },
          "metadata": {}
        }
      ]
    },
    {
      "cell_type": "code",
      "source": [
        "from sklearn.metrics import accuracy_score, precision_score, recall_score, f1_score\n",
        "\n",
        "# Calculate accuracy\n",
        "accuracy = accuracy_score(true_labels, predicted_classes)\n",
        "\n",
        "# Calculate precision\n",
        "precision = precision_score(true_labels, predicted_classes)\n",
        "\n",
        "# Calculate recall (sensitivity)\n",
        "recall = recall_score(true_labels, predicted_classes)\n",
        "\n",
        "# Calculate F1 score\n",
        "f1 = f1_score(true_labels, predicted_classes)\n",
        "\n",
        "print(\"Accuracy:\", accuracy)\n",
        "print(\"Precision:\", precision)\n",
        "print(\"Recall:\", recall)\n",
        "print(\"F1 Score:\", f1)\n",
        "\n"
      ],
      "metadata": {
        "colab": {
          "base_uri": "https://localhost:8080/"
        },
        "id": "0TLDWztXrxoR",
        "outputId": "101f332c-9664-4a7c-a397-e0c3e92eb8bf"
      },
      "execution_count": 25,
      "outputs": [
        {
          "output_type": "stream",
          "name": "stdout",
          "text": [
            "Accuracy: 0.5342657342657343\n",
            "Precision: 0.36398467432950193\n",
            "Recall: 0.36259541984732824\n",
            "F1 Score: 0.36328871892925435\n"
          ]
        }
      ]
    }
  ],
  "metadata": {
    "colab": {
      "provenance": [],
      "gpuType": "T4"
    },
    "kernelspec": {
      "display_name": "Python 3",
      "name": "python3"
    },
    "language_info": {
      "name": "python"
    },
    "accelerator": "GPU"
  },
  "nbformat": 4,
  "nbformat_minor": 0
}